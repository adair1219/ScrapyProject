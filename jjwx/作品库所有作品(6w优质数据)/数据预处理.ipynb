{
 "cells": [
  {
   "cell_type": "markdown",
   "source": [
    "依赖库配置"
   ],
   "metadata": {
    "collapsed": false
   }
  },
  {
   "cell_type": "code",
   "execution_count": 1,
   "metadata": {
    "collapsed": true
   },
   "outputs": [],
   "source": [
    "import pandas as pd\n",
    "import numpy as np"
   ]
  },
  {
   "cell_type": "markdown",
   "source": [
    "### 加载爬取的所有数据，进行预处理，保证数据的干净，尽量没有噪音"
   ],
   "metadata": {
    "collapsed": false
   }
  },
  {
   "cell_type": "markdown",
   "source": [
    "#### 初步查看，数据，数据含义见表头"
   ],
   "metadata": {
    "collapsed": false
   }
  },
  {
   "cell_type": "code",
   "execution_count": 2,
   "outputs": [
    {
     "data": {
      "text/plain": "           a_作者                        a_作者_url                b_作品  \\\n0            竹已  oneauthor.php?authorid=1938546               偷偷藏不住   \n1         Zoody  oneauthor.php?authorid=3310540               云边咖啡馆   \n2            竹已  oneauthor.php?authorid=1938546                  难哄   \n3            栖见   oneauthor.php?authorid=585107                白日梦我   \n4            竹已  oneauthor.php?authorid=1938546               偷偷藏不住   \n...         ...                             ...                 ...   \n127081    河鳝的脑花  oneauthor.php?authorid=2213495  【全职/恋与】叶修x白起 等你在风里   \n127082      未有雨  oneauthor.php?authorid=2037159                心于长熙   \n127083       明蒿  oneauthor.php?authorid=1872296                乞人轶事   \n127084  聪明机智菜菜菜  oneauthor.php?authorid=1351301            西游记之九世一生   \n127085     残阳落暖   oneauthor.php?authorid=642847           我有特殊的侧写技巧   \n\n                           b_作品_url             c_类型  \\\n0       onebook.php?novelid=3676002    原创-言情-近代现代-爱情   \n1       onebook.php?novelid=5095598    原创-言情-近代现代-爱情   \n2       onebook.php?novelid=4001734    原创-言情-近代现代-爱情   \n3       onebook.php?novelid=3525826    原创-言情-近代现代-爱情   \n4       onebook.php?novelid=3676002    原创-言情-近代现代-爱情   \n...                             ...              ...   \n127081  onebook.php?novelid=3500790  衍生-纯爱-近代现代-东方衍生   \n127082  onebook.php?novelid=4940602    原创-纯爱-近代现代-游戏   \n127083  onebook.php?novelid=2952730    原创-纯爱-近代现代-爱情   \n127084  onebook.php?novelid=2507295  衍生-纯爱-古色古香-古典衍生   \n127085  onebook.php?novelid=3554034  衍生-纯爱-近代现代-西方衍生   \n\n                                          d_风格 e_进度    f_字数       g_作品积分  \\\n0       轻松                                       完结  372127  15400449024   \n1       轻松                                       完结   87661    384190016   \n2       轻松                                       完结  389894  14779252736   \n3       正剧                                       完结  427269   9028750336   \n4       轻松                                       完结  372127  15391267840   \n...                                        ...  ...     ...          ...   \n127081  正剧                                       连载  317075     12327059   \n127082  正剧                                       完结   40439     14887185   \n127083  正剧                                       完结   95528      7041752   \n127084  正剧                                       完结  282775     39535896   \n127085  正剧                                       暂停  119208     19726530   \n\n                     h_发表时间    作品库类型  \n0       2018-07-24 23:08:19      NaN  \n1       2020-08-16 06:46:34  package  \n2       2019-01-21 00:29:54      NaN  \n3       2018-03-16 13:21:32      NaN  \n4       2018-07-24 23:08:19      vip  \n...                     ...      ...  \n127081  2018-02-21 17:10:15     free  \n127082  2020-06-28 22:51:22     free  \n127083  2016-10-10 21:31:57     free  \n127084  2015-07-16 11:56:54     free  \n127085  2018-04-10 22:56:55     free  \n\n[127086 rows x 11 columns]",
      "text/html": "<div>\n<style scoped>\n    .dataframe tbody tr th:only-of-type {\n        vertical-align: middle;\n    }\n\n    .dataframe tbody tr th {\n        vertical-align: top;\n    }\n\n    .dataframe thead th {\n        text-align: right;\n    }\n</style>\n<table border=\"1\" class=\"dataframe\">\n  <thead>\n    <tr style=\"text-align: right;\">\n      <th></th>\n      <th>a_作者</th>\n      <th>a_作者_url</th>\n      <th>b_作品</th>\n      <th>b_作品_url</th>\n      <th>c_类型</th>\n      <th>d_风格</th>\n      <th>e_进度</th>\n      <th>f_字数</th>\n      <th>g_作品积分</th>\n      <th>h_发表时间</th>\n      <th>作品库类型</th>\n    </tr>\n  </thead>\n  <tbody>\n    <tr>\n      <th>0</th>\n      <td>竹已</td>\n      <td>oneauthor.php?authorid=1938546</td>\n      <td>偷偷藏不住</td>\n      <td>onebook.php?novelid=3676002</td>\n      <td>原创-言情-近代现代-爱情</td>\n      <td>轻松</td>\n      <td>完结</td>\n      <td>372127</td>\n      <td>15400449024</td>\n      <td>2018-07-24 23:08:19</td>\n      <td>NaN</td>\n    </tr>\n    <tr>\n      <th>1</th>\n      <td>Zoody</td>\n      <td>oneauthor.php?authorid=3310540</td>\n      <td>云边咖啡馆</td>\n      <td>onebook.php?novelid=5095598</td>\n      <td>原创-言情-近代现代-爱情</td>\n      <td>轻松</td>\n      <td>完结</td>\n      <td>87661</td>\n      <td>384190016</td>\n      <td>2020-08-16 06:46:34</td>\n      <td>package</td>\n    </tr>\n    <tr>\n      <th>2</th>\n      <td>竹已</td>\n      <td>oneauthor.php?authorid=1938546</td>\n      <td>难哄</td>\n      <td>onebook.php?novelid=4001734</td>\n      <td>原创-言情-近代现代-爱情</td>\n      <td>轻松</td>\n      <td>完结</td>\n      <td>389894</td>\n      <td>14779252736</td>\n      <td>2019-01-21 00:29:54</td>\n      <td>NaN</td>\n    </tr>\n    <tr>\n      <th>3</th>\n      <td>栖见</td>\n      <td>oneauthor.php?authorid=585107</td>\n      <td>白日梦我</td>\n      <td>onebook.php?novelid=3525826</td>\n      <td>原创-言情-近代现代-爱情</td>\n      <td>正剧</td>\n      <td>完结</td>\n      <td>427269</td>\n      <td>9028750336</td>\n      <td>2018-03-16 13:21:32</td>\n      <td>NaN</td>\n    </tr>\n    <tr>\n      <th>4</th>\n      <td>竹已</td>\n      <td>oneauthor.php?authorid=1938546</td>\n      <td>偷偷藏不住</td>\n      <td>onebook.php?novelid=3676002</td>\n      <td>原创-言情-近代现代-爱情</td>\n      <td>轻松</td>\n      <td>完结</td>\n      <td>372127</td>\n      <td>15391267840</td>\n      <td>2018-07-24 23:08:19</td>\n      <td>vip</td>\n    </tr>\n    <tr>\n      <th>...</th>\n      <td>...</td>\n      <td>...</td>\n      <td>...</td>\n      <td>...</td>\n      <td>...</td>\n      <td>...</td>\n      <td>...</td>\n      <td>...</td>\n      <td>...</td>\n      <td>...</td>\n      <td>...</td>\n    </tr>\n    <tr>\n      <th>127081</th>\n      <td>河鳝的脑花</td>\n      <td>oneauthor.php?authorid=2213495</td>\n      <td>【全职/恋与】叶修x白起 等你在风里</td>\n      <td>onebook.php?novelid=3500790</td>\n      <td>衍生-纯爱-近代现代-东方衍生</td>\n      <td>正剧</td>\n      <td>连载</td>\n      <td>317075</td>\n      <td>12327059</td>\n      <td>2018-02-21 17:10:15</td>\n      <td>free</td>\n    </tr>\n    <tr>\n      <th>127082</th>\n      <td>未有雨</td>\n      <td>oneauthor.php?authorid=2037159</td>\n      <td>心于长熙</td>\n      <td>onebook.php?novelid=4940602</td>\n      <td>原创-纯爱-近代现代-游戏</td>\n      <td>正剧</td>\n      <td>完结</td>\n      <td>40439</td>\n      <td>14887185</td>\n      <td>2020-06-28 22:51:22</td>\n      <td>free</td>\n    </tr>\n    <tr>\n      <th>127083</th>\n      <td>明蒿</td>\n      <td>oneauthor.php?authorid=1872296</td>\n      <td>乞人轶事</td>\n      <td>onebook.php?novelid=2952730</td>\n      <td>原创-纯爱-近代现代-爱情</td>\n      <td>正剧</td>\n      <td>完结</td>\n      <td>95528</td>\n      <td>7041752</td>\n      <td>2016-10-10 21:31:57</td>\n      <td>free</td>\n    </tr>\n    <tr>\n      <th>127084</th>\n      <td>聪明机智菜菜菜</td>\n      <td>oneauthor.php?authorid=1351301</td>\n      <td>西游记之九世一生</td>\n      <td>onebook.php?novelid=2507295</td>\n      <td>衍生-纯爱-古色古香-古典衍生</td>\n      <td>正剧</td>\n      <td>完结</td>\n      <td>282775</td>\n      <td>39535896</td>\n      <td>2015-07-16 11:56:54</td>\n      <td>free</td>\n    </tr>\n    <tr>\n      <th>127085</th>\n      <td>残阳落暖</td>\n      <td>oneauthor.php?authorid=642847</td>\n      <td>我有特殊的侧写技巧</td>\n      <td>onebook.php?novelid=3554034</td>\n      <td>衍生-纯爱-近代现代-西方衍生</td>\n      <td>正剧</td>\n      <td>暂停</td>\n      <td>119208</td>\n      <td>19726530</td>\n      <td>2018-04-10 22:56:55</td>\n      <td>free</td>\n    </tr>\n  </tbody>\n</table>\n<p>127086 rows × 11 columns</p>\n</div>"
     },
     "execution_count": 2,
     "metadata": {},
     "output_type": "execute_result"
    }
   ],
   "source": [
    "data = pd.read_csv('E:\\爬虫\\jjwx\\jjwxc.csv') # 需要正确的路径\n",
    "data"
   ],
   "metadata": {
    "collapsed": false,
    "pycharm": {
     "name": "#%%\n"
    }
   }
  },
  {
   "cell_type": "markdown",
   "source": [
    "上表可见，data的shape 为 127086X11,说明有127086条数据，11个字段"
   ],
   "metadata": {
    "collapsed": false
   }
  },
  {
   "cell_type": "markdown",
   "source": [
    "#### 预处理第一步：去重（爬取的作品中含有大量重复的作品，因为有些小说既是原创、也是言情）"
   ],
   "metadata": {
    "collapsed": false
   }
  },
  {
   "cell_type": "code",
   "execution_count": 3,
   "outputs": [
    {
     "data": {
      "text/plain": "              a_作者                        a_作者_url                b_作品  \\\n0               竹已  oneauthor.php?authorid=1938546               偷偷藏不住   \n1            Zoody  oneauthor.php?authorid=3310540               云边咖啡馆   \n2               竹已  oneauthor.php?authorid=1938546                  难哄   \n3               栖见   oneauthor.php?authorid=585107                白日梦我   \n4               竹已  oneauthor.php?authorid=1938546               偷偷藏不住   \n...            ...                             ...                 ...   \n127078  千佑Alleycat  oneauthor.php?authorid=2417786      嫌疑人每天都会把侦探气个半死   \n127080        闲云向晚  oneauthor.php?authorid=2415488          我做妖王迷弟的那些年   \n127081       河鳝的脑花  oneauthor.php?authorid=2213495  【全职/恋与】叶修x白起 等你在风里   \n127084     聪明机智菜菜菜  oneauthor.php?authorid=1351301            西游记之九世一生   \n127085        残阳落暖   oneauthor.php?authorid=642847           我有特殊的侧写技巧   \n\n                           b_作品_url             c_类型  \\\n0       onebook.php?novelid=3676002    原创-言情-近代现代-爱情   \n1       onebook.php?novelid=5095598    原创-言情-近代现代-爱情   \n2       onebook.php?novelid=4001734    原创-言情-近代现代-爱情   \n3       onebook.php?novelid=3525826    原创-言情-近代现代-爱情   \n4       onebook.php?novelid=3676002    原创-言情-近代现代-爱情   \n...                             ...              ...   \n127078  onebook.php?novelid=6273634  衍生-无CP-近代现代-轻小说   \n127080  onebook.php?novelid=4011416  衍生-纯爱-古色古香-东方衍生   \n127081  onebook.php?novelid=3500790  衍生-纯爱-近代现代-东方衍生   \n127084  onebook.php?novelid=2507295  衍生-纯爱-古色古香-古典衍生   \n127085  onebook.php?novelid=3554034  衍生-纯爱-近代现代-西方衍生   \n\n                                          d_风格 e_进度    f_字数       g_作品积分  \\\n0       轻松                                       完结  372127  15400449024   \n1       轻松                                       完结   87661    384190016   \n2       轻松                                       完结  389894  14779252736   \n3       正剧                                       完结  427269   9028750336   \n4       轻松                                       完结  372127  15391267840   \n...                                        ...  ...     ...          ...   \n127078  轻松                                       连载   61162      8173361   \n127080  轻松                                       连载  163686     23800602   \n127081  正剧                                       连载  317075     12327059   \n127084  正剧                                       完结  282775     39535896   \n127085  正剧                                       暂停  119208     19726530   \n\n                     h_发表时间    作品库类型  \n0       2018-07-24 23:08:19      NaN  \n1       2020-08-16 06:46:34  package  \n2       2019-01-21 00:29:54      NaN  \n3       2018-03-16 13:21:32      NaN  \n4       2018-07-24 23:08:19      vip  \n...                     ...      ...  \n127078  2021-10-18 12:58:04     free  \n127080  2019-01-27 23:53:35     free  \n127081  2018-02-21 17:10:15     free  \n127084  2015-07-16 11:56:54     free  \n127085  2018-04-10 22:56:55     free  \n\n[61548 rows x 11 columns]",
      "text/html": "<div>\n<style scoped>\n    .dataframe tbody tr th:only-of-type {\n        vertical-align: middle;\n    }\n\n    .dataframe tbody tr th {\n        vertical-align: top;\n    }\n\n    .dataframe thead th {\n        text-align: right;\n    }\n</style>\n<table border=\"1\" class=\"dataframe\">\n  <thead>\n    <tr style=\"text-align: right;\">\n      <th></th>\n      <th>a_作者</th>\n      <th>a_作者_url</th>\n      <th>b_作品</th>\n      <th>b_作品_url</th>\n      <th>c_类型</th>\n      <th>d_风格</th>\n      <th>e_进度</th>\n      <th>f_字数</th>\n      <th>g_作品积分</th>\n      <th>h_发表时间</th>\n      <th>作品库类型</th>\n    </tr>\n  </thead>\n  <tbody>\n    <tr>\n      <th>0</th>\n      <td>竹已</td>\n      <td>oneauthor.php?authorid=1938546</td>\n      <td>偷偷藏不住</td>\n      <td>onebook.php?novelid=3676002</td>\n      <td>原创-言情-近代现代-爱情</td>\n      <td>轻松</td>\n      <td>完结</td>\n      <td>372127</td>\n      <td>15400449024</td>\n      <td>2018-07-24 23:08:19</td>\n      <td>NaN</td>\n    </tr>\n    <tr>\n      <th>1</th>\n      <td>Zoody</td>\n      <td>oneauthor.php?authorid=3310540</td>\n      <td>云边咖啡馆</td>\n      <td>onebook.php?novelid=5095598</td>\n      <td>原创-言情-近代现代-爱情</td>\n      <td>轻松</td>\n      <td>完结</td>\n      <td>87661</td>\n      <td>384190016</td>\n      <td>2020-08-16 06:46:34</td>\n      <td>package</td>\n    </tr>\n    <tr>\n      <th>2</th>\n      <td>竹已</td>\n      <td>oneauthor.php?authorid=1938546</td>\n      <td>难哄</td>\n      <td>onebook.php?novelid=4001734</td>\n      <td>原创-言情-近代现代-爱情</td>\n      <td>轻松</td>\n      <td>完结</td>\n      <td>389894</td>\n      <td>14779252736</td>\n      <td>2019-01-21 00:29:54</td>\n      <td>NaN</td>\n    </tr>\n    <tr>\n      <th>3</th>\n      <td>栖见</td>\n      <td>oneauthor.php?authorid=585107</td>\n      <td>白日梦我</td>\n      <td>onebook.php?novelid=3525826</td>\n      <td>原创-言情-近代现代-爱情</td>\n      <td>正剧</td>\n      <td>完结</td>\n      <td>427269</td>\n      <td>9028750336</td>\n      <td>2018-03-16 13:21:32</td>\n      <td>NaN</td>\n    </tr>\n    <tr>\n      <th>4</th>\n      <td>竹已</td>\n      <td>oneauthor.php?authorid=1938546</td>\n      <td>偷偷藏不住</td>\n      <td>onebook.php?novelid=3676002</td>\n      <td>原创-言情-近代现代-爱情</td>\n      <td>轻松</td>\n      <td>完结</td>\n      <td>372127</td>\n      <td>15391267840</td>\n      <td>2018-07-24 23:08:19</td>\n      <td>vip</td>\n    </tr>\n    <tr>\n      <th>...</th>\n      <td>...</td>\n      <td>...</td>\n      <td>...</td>\n      <td>...</td>\n      <td>...</td>\n      <td>...</td>\n      <td>...</td>\n      <td>...</td>\n      <td>...</td>\n      <td>...</td>\n      <td>...</td>\n    </tr>\n    <tr>\n      <th>127078</th>\n      <td>千佑Alleycat</td>\n      <td>oneauthor.php?authorid=2417786</td>\n      <td>嫌疑人每天都会把侦探气个半死</td>\n      <td>onebook.php?novelid=6273634</td>\n      <td>衍生-无CP-近代现代-轻小说</td>\n      <td>轻松</td>\n      <td>连载</td>\n      <td>61162</td>\n      <td>8173361</td>\n      <td>2021-10-18 12:58:04</td>\n      <td>free</td>\n    </tr>\n    <tr>\n      <th>127080</th>\n      <td>闲云向晚</td>\n      <td>oneauthor.php?authorid=2415488</td>\n      <td>我做妖王迷弟的那些年</td>\n      <td>onebook.php?novelid=4011416</td>\n      <td>衍生-纯爱-古色古香-东方衍生</td>\n      <td>轻松</td>\n      <td>连载</td>\n      <td>163686</td>\n      <td>23800602</td>\n      <td>2019-01-27 23:53:35</td>\n      <td>free</td>\n    </tr>\n    <tr>\n      <th>127081</th>\n      <td>河鳝的脑花</td>\n      <td>oneauthor.php?authorid=2213495</td>\n      <td>【全职/恋与】叶修x白起 等你在风里</td>\n      <td>onebook.php?novelid=3500790</td>\n      <td>衍生-纯爱-近代现代-东方衍生</td>\n      <td>正剧</td>\n      <td>连载</td>\n      <td>317075</td>\n      <td>12327059</td>\n      <td>2018-02-21 17:10:15</td>\n      <td>free</td>\n    </tr>\n    <tr>\n      <th>127084</th>\n      <td>聪明机智菜菜菜</td>\n      <td>oneauthor.php?authorid=1351301</td>\n      <td>西游记之九世一生</td>\n      <td>onebook.php?novelid=2507295</td>\n      <td>衍生-纯爱-古色古香-古典衍生</td>\n      <td>正剧</td>\n      <td>完结</td>\n      <td>282775</td>\n      <td>39535896</td>\n      <td>2015-07-16 11:56:54</td>\n      <td>free</td>\n    </tr>\n    <tr>\n      <th>127085</th>\n      <td>残阳落暖</td>\n      <td>oneauthor.php?authorid=642847</td>\n      <td>我有特殊的侧写技巧</td>\n      <td>onebook.php?novelid=3554034</td>\n      <td>衍生-纯爱-近代现代-西方衍生</td>\n      <td>正剧</td>\n      <td>暂停</td>\n      <td>119208</td>\n      <td>19726530</td>\n      <td>2018-04-10 22:56:55</td>\n      <td>free</td>\n    </tr>\n  </tbody>\n</table>\n<p>61548 rows × 11 columns</p>\n</div>"
     },
     "execution_count": 3,
     "metadata": {},
     "output_type": "execute_result"
    }
   ],
   "source": [
    "data = data.drop_duplicates()\n",
    "data = data.drop(index=57295) ## 与表头相同的列，需要删除\n",
    "data"
   ],
   "metadata": {
    "collapsed": false,
    "pycharm": {
     "name": "#%%\n"
    }
   }
  },
  {
   "cell_type": "markdown",
   "source": [
    "去重后，shape变为了 61548X11, 只生下了61658条数据"
   ],
   "metadata": {
    "collapsed": false
   }
  },
  {
   "cell_type": "markdown",
   "source": [
    "#### 第二步，将所有类型拆分，方便后面做数据分析，观察小说所属类型,并将原c_类型删除，因为该列会变为冗余数据列"
   ],
   "metadata": {
    "collapsed": false
   }
  },
  {
   "cell_type": "code",
   "execution_count": 4,
   "outputs": [
    {
     "data": {
      "text/plain": "              a_作者                        a_作者_url                b_作品  \\\n0               竹已  oneauthor.php?authorid=1938546               偷偷藏不住   \n1            Zoody  oneauthor.php?authorid=3310540               云边咖啡馆   \n2               竹已  oneauthor.php?authorid=1938546                  难哄   \n3               栖见   oneauthor.php?authorid=585107                白日梦我   \n4               竹已  oneauthor.php?authorid=1938546               偷偷藏不住   \n...            ...                             ...                 ...   \n127078  千佑Alleycat  oneauthor.php?authorid=2417786      嫌疑人每天都会把侦探气个半死   \n127080        闲云向晚  oneauthor.php?authorid=2415488          我做妖王迷弟的那些年   \n127081       河鳝的脑花  oneauthor.php?authorid=2213495  【全职/恋与】叶修x白起 等你在风里   \n127084     聪明机智菜菜菜  oneauthor.php?authorid=1351301            西游记之九世一生   \n127085        残阳落暖   oneauthor.php?authorid=642847           我有特殊的侧写技巧   \n\n                           b_作品_url                                    d_风格  \\\n0       onebook.php?novelid=3676002  轻松                                       \n1       onebook.php?novelid=5095598  轻松                                       \n2       onebook.php?novelid=4001734  轻松                                       \n3       onebook.php?novelid=3525826  正剧                                       \n4       onebook.php?novelid=3676002  轻松                                       \n...                             ...                                     ...   \n127078  onebook.php?novelid=6273634  轻松                                       \n127080  onebook.php?novelid=4011416  轻松                                       \n127081  onebook.php?novelid=3500790  正剧                                       \n127084  onebook.php?novelid=2507295  正剧                                       \n127085  onebook.php?novelid=3554034  正剧                                       \n\n       e_进度    f_字数       g_作品积分               h_发表时间    作品库类型 类型_1 类型_2  \\\n0        完结  372127  15400449024  2018-07-24 23:08:19      NaN   原创   言情   \n1        完结   87661    384190016  2020-08-16 06:46:34  package   原创   言情   \n2        完结  389894  14779252736  2019-01-21 00:29:54      NaN   原创   言情   \n3        完结  427269   9028750336  2018-03-16 13:21:32      NaN   原创   言情   \n4        完结  372127  15391267840  2018-07-24 23:08:19      vip   原创   言情   \n...     ...     ...          ...                  ...      ...  ...  ...   \n127078   连载   61162      8173361  2021-10-18 12:58:04     free   衍生  无CP   \n127080   连载  163686     23800602  2019-01-27 23:53:35     free   衍生   纯爱   \n127081   连载  317075     12327059  2018-02-21 17:10:15     free   衍生   纯爱   \n127084   完结  282775     39535896  2015-07-16 11:56:54     free   衍生   纯爱   \n127085   暂停  119208     19726530  2018-04-10 22:56:55     free   衍生   纯爱   \n\n        类型_3  类型_4  \n0       近代现代    爱情  \n1       近代现代    爱情  \n2       近代现代    爱情  \n3       近代现代    爱情  \n4       近代现代    爱情  \n...      ...   ...  \n127078  近代现代   轻小说  \n127080  古色古香  东方衍生  \n127081  近代现代  东方衍生  \n127084  古色古香  古典衍生  \n127085  近代现代  西方衍生  \n\n[61548 rows x 14 columns]",
      "text/html": "<div>\n<style scoped>\n    .dataframe tbody tr th:only-of-type {\n        vertical-align: middle;\n    }\n\n    .dataframe tbody tr th {\n        vertical-align: top;\n    }\n\n    .dataframe thead th {\n        text-align: right;\n    }\n</style>\n<table border=\"1\" class=\"dataframe\">\n  <thead>\n    <tr style=\"text-align: right;\">\n      <th></th>\n      <th>a_作者</th>\n      <th>a_作者_url</th>\n      <th>b_作品</th>\n      <th>b_作品_url</th>\n      <th>d_风格</th>\n      <th>e_进度</th>\n      <th>f_字数</th>\n      <th>g_作品积分</th>\n      <th>h_发表时间</th>\n      <th>作品库类型</th>\n      <th>类型_1</th>\n      <th>类型_2</th>\n      <th>类型_3</th>\n      <th>类型_4</th>\n    </tr>\n  </thead>\n  <tbody>\n    <tr>\n      <th>0</th>\n      <td>竹已</td>\n      <td>oneauthor.php?authorid=1938546</td>\n      <td>偷偷藏不住</td>\n      <td>onebook.php?novelid=3676002</td>\n      <td>轻松</td>\n      <td>完结</td>\n      <td>372127</td>\n      <td>15400449024</td>\n      <td>2018-07-24 23:08:19</td>\n      <td>NaN</td>\n      <td>原创</td>\n      <td>言情</td>\n      <td>近代现代</td>\n      <td>爱情</td>\n    </tr>\n    <tr>\n      <th>1</th>\n      <td>Zoody</td>\n      <td>oneauthor.php?authorid=3310540</td>\n      <td>云边咖啡馆</td>\n      <td>onebook.php?novelid=5095598</td>\n      <td>轻松</td>\n      <td>完结</td>\n      <td>87661</td>\n      <td>384190016</td>\n      <td>2020-08-16 06:46:34</td>\n      <td>package</td>\n      <td>原创</td>\n      <td>言情</td>\n      <td>近代现代</td>\n      <td>爱情</td>\n    </tr>\n    <tr>\n      <th>2</th>\n      <td>竹已</td>\n      <td>oneauthor.php?authorid=1938546</td>\n      <td>难哄</td>\n      <td>onebook.php?novelid=4001734</td>\n      <td>轻松</td>\n      <td>完结</td>\n      <td>389894</td>\n      <td>14779252736</td>\n      <td>2019-01-21 00:29:54</td>\n      <td>NaN</td>\n      <td>原创</td>\n      <td>言情</td>\n      <td>近代现代</td>\n      <td>爱情</td>\n    </tr>\n    <tr>\n      <th>3</th>\n      <td>栖见</td>\n      <td>oneauthor.php?authorid=585107</td>\n      <td>白日梦我</td>\n      <td>onebook.php?novelid=3525826</td>\n      <td>正剧</td>\n      <td>完结</td>\n      <td>427269</td>\n      <td>9028750336</td>\n      <td>2018-03-16 13:21:32</td>\n      <td>NaN</td>\n      <td>原创</td>\n      <td>言情</td>\n      <td>近代现代</td>\n      <td>爱情</td>\n    </tr>\n    <tr>\n      <th>4</th>\n      <td>竹已</td>\n      <td>oneauthor.php?authorid=1938546</td>\n      <td>偷偷藏不住</td>\n      <td>onebook.php?novelid=3676002</td>\n      <td>轻松</td>\n      <td>完结</td>\n      <td>372127</td>\n      <td>15391267840</td>\n      <td>2018-07-24 23:08:19</td>\n      <td>vip</td>\n      <td>原创</td>\n      <td>言情</td>\n      <td>近代现代</td>\n      <td>爱情</td>\n    </tr>\n    <tr>\n      <th>...</th>\n      <td>...</td>\n      <td>...</td>\n      <td>...</td>\n      <td>...</td>\n      <td>...</td>\n      <td>...</td>\n      <td>...</td>\n      <td>...</td>\n      <td>...</td>\n      <td>...</td>\n      <td>...</td>\n      <td>...</td>\n      <td>...</td>\n      <td>...</td>\n    </tr>\n    <tr>\n      <th>127078</th>\n      <td>千佑Alleycat</td>\n      <td>oneauthor.php?authorid=2417786</td>\n      <td>嫌疑人每天都会把侦探气个半死</td>\n      <td>onebook.php?novelid=6273634</td>\n      <td>轻松</td>\n      <td>连载</td>\n      <td>61162</td>\n      <td>8173361</td>\n      <td>2021-10-18 12:58:04</td>\n      <td>free</td>\n      <td>衍生</td>\n      <td>无CP</td>\n      <td>近代现代</td>\n      <td>轻小说</td>\n    </tr>\n    <tr>\n      <th>127080</th>\n      <td>闲云向晚</td>\n      <td>oneauthor.php?authorid=2415488</td>\n      <td>我做妖王迷弟的那些年</td>\n      <td>onebook.php?novelid=4011416</td>\n      <td>轻松</td>\n      <td>连载</td>\n      <td>163686</td>\n      <td>23800602</td>\n      <td>2019-01-27 23:53:35</td>\n      <td>free</td>\n      <td>衍生</td>\n      <td>纯爱</td>\n      <td>古色古香</td>\n      <td>东方衍生</td>\n    </tr>\n    <tr>\n      <th>127081</th>\n      <td>河鳝的脑花</td>\n      <td>oneauthor.php?authorid=2213495</td>\n      <td>【全职/恋与】叶修x白起 等你在风里</td>\n      <td>onebook.php?novelid=3500790</td>\n      <td>正剧</td>\n      <td>连载</td>\n      <td>317075</td>\n      <td>12327059</td>\n      <td>2018-02-21 17:10:15</td>\n      <td>free</td>\n      <td>衍生</td>\n      <td>纯爱</td>\n      <td>近代现代</td>\n      <td>东方衍生</td>\n    </tr>\n    <tr>\n      <th>127084</th>\n      <td>聪明机智菜菜菜</td>\n      <td>oneauthor.php?authorid=1351301</td>\n      <td>西游记之九世一生</td>\n      <td>onebook.php?novelid=2507295</td>\n      <td>正剧</td>\n      <td>完结</td>\n      <td>282775</td>\n      <td>39535896</td>\n      <td>2015-07-16 11:56:54</td>\n      <td>free</td>\n      <td>衍生</td>\n      <td>纯爱</td>\n      <td>古色古香</td>\n      <td>古典衍生</td>\n    </tr>\n    <tr>\n      <th>127085</th>\n      <td>残阳落暖</td>\n      <td>oneauthor.php?authorid=642847</td>\n      <td>我有特殊的侧写技巧</td>\n      <td>onebook.php?novelid=3554034</td>\n      <td>正剧</td>\n      <td>暂停</td>\n      <td>119208</td>\n      <td>19726530</td>\n      <td>2018-04-10 22:56:55</td>\n      <td>free</td>\n      <td>衍生</td>\n      <td>纯爱</td>\n      <td>近代现代</td>\n      <td>西方衍生</td>\n    </tr>\n  </tbody>\n</table>\n<p>61548 rows × 14 columns</p>\n</div>"
     },
     "execution_count": 4,
     "metadata": {},
     "output_type": "execute_result"
    }
   ],
   "source": [
    "for i in range(1, 4+1):\n",
    "    data[f'类型_{i}'] = data['c_类型'].apply(lambda x: x.split(r'-')[i-1])\n",
    "data = data.drop('c_类型', axis=1)\n",
    "data"
   ],
   "metadata": {
    "collapsed": false,
    "pycharm": {
     "name": "#%%\n"
    }
   }
  },
  {
   "cell_type": "markdown",
   "source": [
    "#### 第三步：将作品库类型的值，转为同网页一样的命名，方便数据分析,比如 free 对应免费作品，sp 对应驻站作品"
   ],
   "metadata": {
    "collapsed": false
   }
  },
  {
   "cell_type": "code",
   "execution_count": 5,
   "outputs": [
    {
     "data": {
      "text/plain": "              a_作者                        a_作者_url                b_作品  \\\n0               竹已  oneauthor.php?authorid=1938546               偷偷藏不住   \n1            Zoody  oneauthor.php?authorid=3310540               云边咖啡馆   \n2               竹已  oneauthor.php?authorid=1938546                  难哄   \n3               栖见   oneauthor.php?authorid=585107                白日梦我   \n4               竹已  oneauthor.php?authorid=1938546               偷偷藏不住   \n...            ...                             ...                 ...   \n127078  千佑Alleycat  oneauthor.php?authorid=2417786      嫌疑人每天都会把侦探气个半死   \n127080        闲云向晚  oneauthor.php?authorid=2415488          我做妖王迷弟的那些年   \n127081       河鳝的脑花  oneauthor.php?authorid=2213495  【全职/恋与】叶修x白起 等你在风里   \n127084     聪明机智菜菜菜  oneauthor.php?authorid=1351301            西游记之九世一生   \n127085        残阳落暖   oneauthor.php?authorid=642847           我有特殊的侧写技巧   \n\n                           b_作品_url                                    d_风格  \\\n0       onebook.php?novelid=3676002  轻松                                       \n1       onebook.php?novelid=5095598  轻松                                       \n2       onebook.php?novelid=4001734  轻松                                       \n3       onebook.php?novelid=3525826  正剧                                       \n4       onebook.php?novelid=3676002  轻松                                       \n...                             ...                                     ...   \n127078  onebook.php?novelid=6273634  轻松                                       \n127080  onebook.php?novelid=4011416  轻松                                       \n127081  onebook.php?novelid=3500790  正剧                                       \n127084  onebook.php?novelid=2507295  正剧                                       \n127085  onebook.php?novelid=3554034  正剧                                       \n\n       e_进度    f_字数       g_作品积分               h_发表时间    作品库类型 类型_1 类型_2  \\\n0        完结  372127  15400449024  2018-07-24 23:08:19     完结作品   原创   言情   \n1        完结   87661    384190016  2020-08-16 06:46:34  完结半价/包月   原创   言情   \n2        完结  389894  14779252736  2019-01-21 00:29:54     完结作品   原创   言情   \n3        完结  427269   9028750336  2018-03-16 13:21:32     完结作品   原创   言情   \n4        完结  372127  15391267840  2018-07-24 23:08:19    VIP作品   原创   言情   \n...     ...     ...          ...                  ...      ...  ...  ...   \n127078   连载   61162      8173361  2021-10-18 12:58:04     免费作品   衍生  无CP   \n127080   连载  163686     23800602  2019-01-27 23:53:35     免费作品   衍生   纯爱   \n127081   连载  317075     12327059  2018-02-21 17:10:15     免费作品   衍生   纯爱   \n127084   完结  282775     39535896  2015-07-16 11:56:54     免费作品   衍生   纯爱   \n127085   暂停  119208     19726530  2018-04-10 22:56:55     免费作品   衍生   纯爱   \n\n        类型_3  类型_4  \n0       近代现代    爱情  \n1       近代现代    爱情  \n2       近代现代    爱情  \n3       近代现代    爱情  \n4       近代现代    爱情  \n...      ...   ...  \n127078  近代现代   轻小说  \n127080  古色古香  东方衍生  \n127081  近代现代  东方衍生  \n127084  古色古香  古典衍生  \n127085  近代现代  西方衍生  \n\n[61548 rows x 14 columns]",
      "text/html": "<div>\n<style scoped>\n    .dataframe tbody tr th:only-of-type {\n        vertical-align: middle;\n    }\n\n    .dataframe tbody tr th {\n        vertical-align: top;\n    }\n\n    .dataframe thead th {\n        text-align: right;\n    }\n</style>\n<table border=\"1\" class=\"dataframe\">\n  <thead>\n    <tr style=\"text-align: right;\">\n      <th></th>\n      <th>a_作者</th>\n      <th>a_作者_url</th>\n      <th>b_作品</th>\n      <th>b_作品_url</th>\n      <th>d_风格</th>\n      <th>e_进度</th>\n      <th>f_字数</th>\n      <th>g_作品积分</th>\n      <th>h_发表时间</th>\n      <th>作品库类型</th>\n      <th>类型_1</th>\n      <th>类型_2</th>\n      <th>类型_3</th>\n      <th>类型_4</th>\n    </tr>\n  </thead>\n  <tbody>\n    <tr>\n      <th>0</th>\n      <td>竹已</td>\n      <td>oneauthor.php?authorid=1938546</td>\n      <td>偷偷藏不住</td>\n      <td>onebook.php?novelid=3676002</td>\n      <td>轻松</td>\n      <td>完结</td>\n      <td>372127</td>\n      <td>15400449024</td>\n      <td>2018-07-24 23:08:19</td>\n      <td>完结作品</td>\n      <td>原创</td>\n      <td>言情</td>\n      <td>近代现代</td>\n      <td>爱情</td>\n    </tr>\n    <tr>\n      <th>1</th>\n      <td>Zoody</td>\n      <td>oneauthor.php?authorid=3310540</td>\n      <td>云边咖啡馆</td>\n      <td>onebook.php?novelid=5095598</td>\n      <td>轻松</td>\n      <td>完结</td>\n      <td>87661</td>\n      <td>384190016</td>\n      <td>2020-08-16 06:46:34</td>\n      <td>完结半价/包月</td>\n      <td>原创</td>\n      <td>言情</td>\n      <td>近代现代</td>\n      <td>爱情</td>\n    </tr>\n    <tr>\n      <th>2</th>\n      <td>竹已</td>\n      <td>oneauthor.php?authorid=1938546</td>\n      <td>难哄</td>\n      <td>onebook.php?novelid=4001734</td>\n      <td>轻松</td>\n      <td>完结</td>\n      <td>389894</td>\n      <td>14779252736</td>\n      <td>2019-01-21 00:29:54</td>\n      <td>完结作品</td>\n      <td>原创</td>\n      <td>言情</td>\n      <td>近代现代</td>\n      <td>爱情</td>\n    </tr>\n    <tr>\n      <th>3</th>\n      <td>栖见</td>\n      <td>oneauthor.php?authorid=585107</td>\n      <td>白日梦我</td>\n      <td>onebook.php?novelid=3525826</td>\n      <td>正剧</td>\n      <td>完结</td>\n      <td>427269</td>\n      <td>9028750336</td>\n      <td>2018-03-16 13:21:32</td>\n      <td>完结作品</td>\n      <td>原创</td>\n      <td>言情</td>\n      <td>近代现代</td>\n      <td>爱情</td>\n    </tr>\n    <tr>\n      <th>4</th>\n      <td>竹已</td>\n      <td>oneauthor.php?authorid=1938546</td>\n      <td>偷偷藏不住</td>\n      <td>onebook.php?novelid=3676002</td>\n      <td>轻松</td>\n      <td>完结</td>\n      <td>372127</td>\n      <td>15391267840</td>\n      <td>2018-07-24 23:08:19</td>\n      <td>VIP作品</td>\n      <td>原创</td>\n      <td>言情</td>\n      <td>近代现代</td>\n      <td>爱情</td>\n    </tr>\n    <tr>\n      <th>...</th>\n      <td>...</td>\n      <td>...</td>\n      <td>...</td>\n      <td>...</td>\n      <td>...</td>\n      <td>...</td>\n      <td>...</td>\n      <td>...</td>\n      <td>...</td>\n      <td>...</td>\n      <td>...</td>\n      <td>...</td>\n      <td>...</td>\n      <td>...</td>\n    </tr>\n    <tr>\n      <th>127078</th>\n      <td>千佑Alleycat</td>\n      <td>oneauthor.php?authorid=2417786</td>\n      <td>嫌疑人每天都会把侦探气个半死</td>\n      <td>onebook.php?novelid=6273634</td>\n      <td>轻松</td>\n      <td>连载</td>\n      <td>61162</td>\n      <td>8173361</td>\n      <td>2021-10-18 12:58:04</td>\n      <td>免费作品</td>\n      <td>衍生</td>\n      <td>无CP</td>\n      <td>近代现代</td>\n      <td>轻小说</td>\n    </tr>\n    <tr>\n      <th>127080</th>\n      <td>闲云向晚</td>\n      <td>oneauthor.php?authorid=2415488</td>\n      <td>我做妖王迷弟的那些年</td>\n      <td>onebook.php?novelid=4011416</td>\n      <td>轻松</td>\n      <td>连载</td>\n      <td>163686</td>\n      <td>23800602</td>\n      <td>2019-01-27 23:53:35</td>\n      <td>免费作品</td>\n      <td>衍生</td>\n      <td>纯爱</td>\n      <td>古色古香</td>\n      <td>东方衍生</td>\n    </tr>\n    <tr>\n      <th>127081</th>\n      <td>河鳝的脑花</td>\n      <td>oneauthor.php?authorid=2213495</td>\n      <td>【全职/恋与】叶修x白起 等你在风里</td>\n      <td>onebook.php?novelid=3500790</td>\n      <td>正剧</td>\n      <td>连载</td>\n      <td>317075</td>\n      <td>12327059</td>\n      <td>2018-02-21 17:10:15</td>\n      <td>免费作品</td>\n      <td>衍生</td>\n      <td>纯爱</td>\n      <td>近代现代</td>\n      <td>东方衍生</td>\n    </tr>\n    <tr>\n      <th>127084</th>\n      <td>聪明机智菜菜菜</td>\n      <td>oneauthor.php?authorid=1351301</td>\n      <td>西游记之九世一生</td>\n      <td>onebook.php?novelid=2507295</td>\n      <td>正剧</td>\n      <td>完结</td>\n      <td>282775</td>\n      <td>39535896</td>\n      <td>2015-07-16 11:56:54</td>\n      <td>免费作品</td>\n      <td>衍生</td>\n      <td>纯爱</td>\n      <td>古色古香</td>\n      <td>古典衍生</td>\n    </tr>\n    <tr>\n      <th>127085</th>\n      <td>残阳落暖</td>\n      <td>oneauthor.php?authorid=642847</td>\n      <td>我有特殊的侧写技巧</td>\n      <td>onebook.php?novelid=3554034</td>\n      <td>正剧</td>\n      <td>暂停</td>\n      <td>119208</td>\n      <td>19726530</td>\n      <td>2018-04-10 22:56:55</td>\n      <td>免费作品</td>\n      <td>衍生</td>\n      <td>纯爱</td>\n      <td>近代现代</td>\n      <td>西方衍生</td>\n    </tr>\n  </tbody>\n</table>\n<p>61548 rows × 14 columns</p>\n</div>"
     },
     "execution_count": 5,
     "metadata": {},
     "output_type": "execute_result"
    }
   ],
   "source": [
    "# 定义转换字典\n",
    "zpk_mapping = {\n",
    "    'vip': 'VIP作品', 'package': '完结半价/包月',\n",
    "    'sp': '驻站作品', 'scriptures': '经典作品', 'free': '免费作品'\n",
    "}\n",
    "data['作品库类型'] = data['作品库类型'].map(zpk_mapping).fillna('完结作品')\n",
    "data"
   ],
   "metadata": {
    "collapsed": false,
    "pycharm": {
     "name": "#%%\n"
    }
   }
  },
  {
   "cell_type": "markdown",
   "source": [
    "#### 第四步： 将数据类型转为正确的数据类型。爬取的数据被默认为字符串类型，因此需要转换"
   ],
   "metadata": {
    "collapsed": false
   }
  },
  {
   "cell_type": "code",
   "execution_count": 6,
   "outputs": [
    {
     "data": {
      "text/plain": "a_作者        object\na_作者_url    object\nb_作品        object\nb_作品_url    object\nd_风格        object\ne_进度        object\nf_字数        object\ng_作品积分      object\nh_发表时间      object\n作品库类型       object\n类型_1        object\n类型_2        object\n类型_3        object\n类型_4        object\ndtype: object"
     },
     "execution_count": 6,
     "metadata": {},
     "output_type": "execute_result"
    }
   ],
   "source": [
    "data.dtypes"
   ],
   "metadata": {
    "collapsed": false,
    "pycharm": {
     "name": "#%%\n"
    }
   }
  },
  {
   "cell_type": "code",
   "execution_count": 7,
   "outputs": [],
   "source": [
    "data = data.astype({\n",
    "    'f_字数': np.int32, 'g_作品积分': np.int64\n",
    "})"
   ],
   "metadata": {
    "collapsed": false,
    "pycharm": {
     "name": "#%%\n"
    }
   }
  },
  {
   "cell_type": "code",
   "execution_count": 8,
   "outputs": [
    {
     "name": "stdout",
     "output_type": "stream",
     "text": [
      "最大字数为9352212, 最小字数为10019\n"
     ]
    }
   ],
   "source": [
    "print(f'最大字数为{data[r\"f_字数\"].max()}, 最小字数为{data[\"f_字数\"].min()}')"
   ],
   "metadata": {
    "collapsed": false,
    "pycharm": {
     "name": "#%%\n"
    }
   }
  },
  {
   "cell_type": "code",
   "execution_count": 9,
   "outputs": [
    {
     "data": {
      "text/plain": "a_作者                object\na_作者_url            object\nb_作品                object\nb_作品_url            object\nd_风格                object\ne_进度                object\nf_字数                 int32\ng_作品积分               int64\nh_发表时间      datetime64[ns]\n作品库类型               object\n类型_1                object\n类型_2                object\n类型_3                object\n类型_4                object\ndtype: object"
     },
     "execution_count": 9,
     "metadata": {},
     "output_type": "execute_result"
    }
   ],
   "source": [
    "# 将 h_发表时间转为 datetime 类型\n",
    "data['h_发表时间'] = pd.to_datetime(data['h_发表时间'])\n",
    "## 检查改变后的数据类型\n",
    "data.dtypes"
   ],
   "metadata": {
    "collapsed": false,
    "pycharm": {
     "name": "#%%\n"
    }
   }
  },
  {
   "cell_type": "markdown",
   "source": [
    "可以看见，字数、积分、发表时间都转为了正确的数据类型"
   ],
   "metadata": {
    "collapsed": false
   }
  },
  {
   "cell_type": "markdown",
   "source": [
    "#### 第五步：将作者的链接和作品的链接提取出来，方便后面爬取信息。并删除，方便做数据分析"
   ],
   "metadata": {
    "collapsed": false
   }
  },
  {
   "cell_type": "code",
   "execution_count": 78,
   "outputs": [
    {
     "data": {
      "text/plain": "              a_作者                b_作品  \\\n0               竹已               偷偷藏不住   \n1            Zoody               云边咖啡馆   \n2               竹已                  难哄   \n3               栖见                白日梦我   \n4               竹已               偷偷藏不住   \n...            ...                 ...   \n127078  千佑Alleycat      嫌疑人每天都会把侦探气个半死   \n127080        闲云向晚          我做妖王迷弟的那些年   \n127081       河鳝的脑花  【全职/恋与】叶修x白起 等你在风里   \n127084     聪明机智菜菜菜            西游记之九世一生   \n127085        残阳落暖           我有特殊的侧写技巧   \n\n                                          d_风格 e_进度    f_字数       g_作品积分  \\\n0       轻松                                       完结  372127  15400449024   \n1       轻松                                       完结   87661    384190016   \n2       轻松                                       完结  389894  14779252736   \n3       正剧                                       完结  427269   9028750336   \n4       轻松                                       完结  372127  15391267840   \n...                                        ...  ...     ...          ...   \n127078  轻松                                       连载   61162      8173361   \n127080  轻松                                       连载  163686     23800602   \n127081  正剧                                       连载  317075     12327059   \n127084  正剧                                       完结  282775     39535896   \n127085  正剧                                       暂停  119208     19726530   \n\n                    h_发表时间    作品库类型 类型_1 类型_2  类型_3  类型_4  \n0      2018-07-24 23:08:19     完结作品   原创   言情  近代现代    爱情  \n1      2020-08-16 06:46:34  完结半价/包月   原创   言情  近代现代    爱情  \n2      2019-01-21 00:29:54     完结作品   原创   言情  近代现代    爱情  \n3      2018-03-16 13:21:32     完结作品   原创   言情  近代现代    爱情  \n4      2018-07-24 23:08:19    VIP作品   原创   言情  近代现代    爱情  \n...                    ...      ...  ...  ...   ...   ...  \n127078 2021-10-18 12:58:04     免费作品   衍生  无CP  近代现代   轻小说  \n127080 2019-01-27 23:53:35     免费作品   衍生   纯爱  古色古香  东方衍生  \n127081 2018-02-21 17:10:15     免费作品   衍生   纯爱  近代现代  东方衍生  \n127084 2015-07-16 11:56:54     免费作品   衍生   纯爱  古色古香  古典衍生  \n127085 2018-04-10 22:56:55     免费作品   衍生   纯爱  近代现代  西方衍生  \n\n[61548 rows x 12 columns]",
      "text/html": "<div>\n<style scoped>\n    .dataframe tbody tr th:only-of-type {\n        vertical-align: middle;\n    }\n\n    .dataframe tbody tr th {\n        vertical-align: top;\n    }\n\n    .dataframe thead th {\n        text-align: right;\n    }\n</style>\n<table border=\"1\" class=\"dataframe\">\n  <thead>\n    <tr style=\"text-align: right;\">\n      <th></th>\n      <th>a_作者</th>\n      <th>b_作品</th>\n      <th>d_风格</th>\n      <th>e_进度</th>\n      <th>f_字数</th>\n      <th>g_作品积分</th>\n      <th>h_发表时间</th>\n      <th>作品库类型</th>\n      <th>类型_1</th>\n      <th>类型_2</th>\n      <th>类型_3</th>\n      <th>类型_4</th>\n    </tr>\n  </thead>\n  <tbody>\n    <tr>\n      <th>0</th>\n      <td>竹已</td>\n      <td>偷偷藏不住</td>\n      <td>轻松</td>\n      <td>完结</td>\n      <td>372127</td>\n      <td>15400449024</td>\n      <td>2018-07-24 23:08:19</td>\n      <td>完结作品</td>\n      <td>原创</td>\n      <td>言情</td>\n      <td>近代现代</td>\n      <td>爱情</td>\n    </tr>\n    <tr>\n      <th>1</th>\n      <td>Zoody</td>\n      <td>云边咖啡馆</td>\n      <td>轻松</td>\n      <td>完结</td>\n      <td>87661</td>\n      <td>384190016</td>\n      <td>2020-08-16 06:46:34</td>\n      <td>完结半价/包月</td>\n      <td>原创</td>\n      <td>言情</td>\n      <td>近代现代</td>\n      <td>爱情</td>\n    </tr>\n    <tr>\n      <th>2</th>\n      <td>竹已</td>\n      <td>难哄</td>\n      <td>轻松</td>\n      <td>完结</td>\n      <td>389894</td>\n      <td>14779252736</td>\n      <td>2019-01-21 00:29:54</td>\n      <td>完结作品</td>\n      <td>原创</td>\n      <td>言情</td>\n      <td>近代现代</td>\n      <td>爱情</td>\n    </tr>\n    <tr>\n      <th>3</th>\n      <td>栖见</td>\n      <td>白日梦我</td>\n      <td>正剧</td>\n      <td>完结</td>\n      <td>427269</td>\n      <td>9028750336</td>\n      <td>2018-03-16 13:21:32</td>\n      <td>完结作品</td>\n      <td>原创</td>\n      <td>言情</td>\n      <td>近代现代</td>\n      <td>爱情</td>\n    </tr>\n    <tr>\n      <th>4</th>\n      <td>竹已</td>\n      <td>偷偷藏不住</td>\n      <td>轻松</td>\n      <td>完结</td>\n      <td>372127</td>\n      <td>15391267840</td>\n      <td>2018-07-24 23:08:19</td>\n      <td>VIP作品</td>\n      <td>原创</td>\n      <td>言情</td>\n      <td>近代现代</td>\n      <td>爱情</td>\n    </tr>\n    <tr>\n      <th>...</th>\n      <td>...</td>\n      <td>...</td>\n      <td>...</td>\n      <td>...</td>\n      <td>...</td>\n      <td>...</td>\n      <td>...</td>\n      <td>...</td>\n      <td>...</td>\n      <td>...</td>\n      <td>...</td>\n      <td>...</td>\n    </tr>\n    <tr>\n      <th>127078</th>\n      <td>千佑Alleycat</td>\n      <td>嫌疑人每天都会把侦探气个半死</td>\n      <td>轻松</td>\n      <td>连载</td>\n      <td>61162</td>\n      <td>8173361</td>\n      <td>2021-10-18 12:58:04</td>\n      <td>免费作品</td>\n      <td>衍生</td>\n      <td>无CP</td>\n      <td>近代现代</td>\n      <td>轻小说</td>\n    </tr>\n    <tr>\n      <th>127080</th>\n      <td>闲云向晚</td>\n      <td>我做妖王迷弟的那些年</td>\n      <td>轻松</td>\n      <td>连载</td>\n      <td>163686</td>\n      <td>23800602</td>\n      <td>2019-01-27 23:53:35</td>\n      <td>免费作品</td>\n      <td>衍生</td>\n      <td>纯爱</td>\n      <td>古色古香</td>\n      <td>东方衍生</td>\n    </tr>\n    <tr>\n      <th>127081</th>\n      <td>河鳝的脑花</td>\n      <td>【全职/恋与】叶修x白起 等你在风里</td>\n      <td>正剧</td>\n      <td>连载</td>\n      <td>317075</td>\n      <td>12327059</td>\n      <td>2018-02-21 17:10:15</td>\n      <td>免费作品</td>\n      <td>衍生</td>\n      <td>纯爱</td>\n      <td>近代现代</td>\n      <td>东方衍生</td>\n    </tr>\n    <tr>\n      <th>127084</th>\n      <td>聪明机智菜菜菜</td>\n      <td>西游记之九世一生</td>\n      <td>正剧</td>\n      <td>完结</td>\n      <td>282775</td>\n      <td>39535896</td>\n      <td>2015-07-16 11:56:54</td>\n      <td>免费作品</td>\n      <td>衍生</td>\n      <td>纯爱</td>\n      <td>古色古香</td>\n      <td>古典衍生</td>\n    </tr>\n    <tr>\n      <th>127085</th>\n      <td>残阳落暖</td>\n      <td>我有特殊的侧写技巧</td>\n      <td>正剧</td>\n      <td>暂停</td>\n      <td>119208</td>\n      <td>19726530</td>\n      <td>2018-04-10 22:56:55</td>\n      <td>免费作品</td>\n      <td>衍生</td>\n      <td>纯爱</td>\n      <td>近代现代</td>\n      <td>西方衍生</td>\n    </tr>\n  </tbody>\n</table>\n<p>61548 rows × 12 columns</p>\n</div>"
     },
     "execution_count": 78,
     "metadata": {},
     "output_type": "execute_result"
    }
   ],
   "source": [
    "links = data[['a_作者_url', 'b_作品_url']]\n",
    "data = data.drop(['a_作者_url', 'b_作品_url'], axis=1)\n",
    "data"
   ],
   "metadata": {
    "collapsed": false,
    "pycharm": {
     "name": "#%%\n"
    }
   }
  },
  {
   "cell_type": "code",
   "execution_count": 87,
   "outputs": [
    {
     "name": "stdout",
     "output_type": "stream",
     "text": [
      "共有 19650 个作者\n"
     ]
    }
   ],
   "source": [
    "author_links = pd.DataFrame()\n",
    "author_links['author_link'] = links['a_作者_url'].unique()\n",
    "print(f'共有 {author_links.shape[0]} 个作者')\n",
    "author_links.to_csv(r'E:\\爬虫\\jjwx\\author_links.csv', index=False)"
   ],
   "metadata": {
    "collapsed": false,
    "pycharm": {
     "name": "#%%\n"
    }
   }
  },
  {
   "cell_type": "code",
   "execution_count": 88,
   "outputs": [
    {
     "name": "stdout",
     "output_type": "stream",
     "text": [
      "共有 41608 个作品\n"
     ]
    }
   ],
   "source": [
    "piece_links = pd.DataFrame()\n",
    "piece_links['piece_link'] = links['b_作品_url'].unique()\n",
    "print(f'共有 {piece_links.shape[0]} 个作品')\n",
    "piece_links.to_csv(r'E:\\爬虫\\jjwx\\piece_links.csv', index=False)"
   ],
   "metadata": {
    "collapsed": false,
    "pycharm": {
     "name": "#%%\n"
    }
   }
  },
  {
   "cell_type": "markdown",
   "source": [
    "将处理好的结果保存至文件 data 中"
   ],
   "metadata": {
    "collapsed": false
   }
  },
  {
   "cell_type": "code",
   "execution_count": 15,
   "outputs": [],
   "source": [
    "data['d_风格'] = data['d_风格'].apply(lambda x: x.strip())"
   ],
   "metadata": {
    "collapsed": false,
    "pycharm": {
     "name": "#%%\n"
    }
   }
  },
  {
   "cell_type": "code",
   "execution_count": 16,
   "outputs": [],
   "source": [
    "data.to_csv('E:\\爬虫\\jjwx\\data\\作品库.csv', index=False)"
   ],
   "metadata": {
    "collapsed": false,
    "pycharm": {
     "name": "#%%\n"
    }
   }
  },
  {
   "cell_type": "code",
   "execution_count": null,
   "outputs": [],
   "source": [],
   "metadata": {
    "collapsed": false,
    "pycharm": {
     "name": "#%%\n"
    }
   }
  }
 ],
 "metadata": {
  "kernelspec": {
   "display_name": "Python 3",
   "language": "python",
   "name": "python3"
  },
  "language_info": {
   "codemirror_mode": {
    "name": "ipython",
    "version": 2
   },
   "file_extension": ".py",
   "mimetype": "text/x-python",
   "name": "python",
   "nbconvert_exporter": "python",
   "pygments_lexer": "ipython2",
   "version": "2.7.6"
  }
 },
 "nbformat": 4,
 "nbformat_minor": 0
}