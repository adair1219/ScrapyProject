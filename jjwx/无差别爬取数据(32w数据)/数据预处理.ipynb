{
 "cells": [
  {
   "cell_type": "code",
   "execution_count": 5,
   "metadata": {
    "collapsed": true
   },
   "outputs": [],
   "source": [
    "## 数据操作\n",
    "import numpy as np\n",
    "import pandas as pd\n",
    "pd.set_option('display.max_rows', 100)\n",
    "pd.set_option('display.unicode.ambiguous_as_wide', True)\n",
    "pd.set_option('display.unicode.east_asian_width', True)\n",
    "\n",
    "from tqdm import tqdm"
   ]
  },
  {
   "cell_type": "code",
   "execution_count": 4,
   "outputs": [
    {
     "name": "stderr",
     "output_type": "stream",
     "text": [
      "D:\\anaconda2022\\lib\\site-packages\\IPython\\core\\interactiveshell.py:3444: DtypeWarning: Columns (0,3,4,5,6,9,13,14,15,16,17,19,20,24) have mixed types.Specify dtype option on import or set low_memory=False.\n",
      "  exec(code_obj, self.user_global_ns, self.user_ns)\n"
     ]
    },
    {
     "data": {
      "text/plain": "       a_作品字数 a_作品状态        a_作者 a_作者所发送红包数 a_小说完本数  \\\n0          157033       连载      挖坑不填                 40          121   \n1           60744       连载      一宫兴子                 20           18   \n2           60744       连载      一宫兴子                 20           18   \n3          157033       连载      挖坑不填                 40          121   \n4          157033       连载      挖坑不填                 40          121   \n...           ...        ...           ...                ...          ...   \n320276     146993       连载  写文字的静一                109            1   \n320277     659250       连载        香酥栗                217           12   \n320278    2259421       连载        甘缘茶               2792            4   \n320279      86170       连载      天明未羽                  0            2   \n320280      10732       连载    月落十三月                  0            0   \n\n       a_小说暂停数 a_小说连载数       a_最后更新时间  \\\n0                25          173  2022-02-20 22:07:26   \n1                 0           25  2020-12-13 15:34:56   \n2                 0           25  2020-12-13 15:34:56   \n3                25          173  2022-02-20 22:07:26   \n4                25          173  2022-02-20 22:07:26   \n...             ...          ...                  ...   \n320276            0            1  2021-06-07 10:40:42   \n320277            0            3  2022-03-14 19:39:39   \n320278            0            7  2022-03-14 23:10:56   \n320279            0            3  2013-01-17 18:48:48   \n320280            0           26  2021-08-20 16:27:38   \n\n                                                        a_最近更新作品  \\\n0       《[主名柯]关于我有三话存稿但还是被催稿是不是哪里搞错了》......   \n1              《[综英美]而那个成功的反派却想要回到过去》                \n2              《[综英美]而那个成功的反派却想要回到过去》                \n3       《[主名柯]关于我有三话存稿但还是被催稿是不是哪里搞错了》......   \n4       《[主名柯]关于我有三话存稿但还是被催稿是不是哪里搞错了》......   \n...                                                                ...   \n320276                         《替嫁假千金每天都想休夫》                \n320277                                 《重回九零拆迁前》                \n320278                           《外挂回收临时工[快穿]》                \n320279                   《{倩女幽魂}穿成书生的弱鸡生活》                \n320280                    《cos成真的我有了复数的欧豆豆》                \n\n       a_被收藏数  ... b_总点击量  \\\n0           25490  ...      39657   \n1            1530  ...      22671   \n2            1530  ...     123219   \n3           25490  ...      10135   \n4           25490  ...      17097   \n...           ...  ...        ...   \n320276         52  ...      13368   \n320277      13225  ...    1151192   \n320278       1715  ...     217760   \n320279         32  ...      97016   \n320280        195  ...     136023   \n\n                                                          b_文章名称  \\\n0                                [综]尤莉卡的秘密恋爱关系              \n1                  [综英美]而那个成功的反派却想要回到过去              \n2            [TSN/ME]当你的脑子里多了一个人的正确解决方法              \n3                        [猫鼠游戏]圆桌骑士和亚瑟王的圣杯              \n4                         [奇幻贵公子/恶灵猎人]生当复来归              \n...                                                   ...              \n320276                                           醉扶青山              \n320277                   幼稚园全都重生了，除了……[九零]              \n320278                      穿越未来之这特么是金手指么 摔              \n320279                       {倩女幽魂}穿成书生的弱鸡生活              \n320280  本该叫做虎杖悠仁的我在失忆期间被冠上了两面宿傩的名字后......   \n\n       b_文章当前被收藏数 b_文章积分                   b_文章类型 b_文章进度  \\\n0                     865   98595808  衍生-言情-架空历史-东方衍生       连载   \n1                     591    9550995  衍生-纯爱-架空历史-西方衍生       连载   \n2                     904   15546017  衍生-纯爱-近代现代-西方衍生       完结   \n3                     110   90343528  衍生-言情-架空历史-西方衍生       完结   \n4                     263   93998864  衍生-言情-架空历史-东方衍生       完结   \n...                   ...        ...                          ...        ...   \n320276                309   16599650      原创-言情-架空历史-爱情       完结   \n320277              19660  531464704      原创-言情-近代现代-爱情       完结   \n320278               1446   53495640      原创-纯爱-幻想未来-爱情       连载   \n320279                476    6851500  衍生-纯爱-古色古香-东方衍生       连载   \n320280               1556    4091129  衍生-无CP-近代现代-东方衍生       连载   \n\n       b_签约状态 b_营养液数 b_霸王票全站排行  \\\n0          已签约         63           231776   \n1          已签约        437           178142   \n2          已签约        297           112990   \n3          已签约         10           321141   \n4          已签约         41             暂无   \n...           ...        ...              ...   \n320276     已签约        112           105072   \n320277     已签约      31775              870   \n320278     已签约        220            59331   \n320279     已签约          2             暂无   \n320280     未签约         42             暂无   \n\n                                                piece_url  \n0       https://www.jjwxc.net/onebook.php?novelid=3350289  \n1       https://www.jjwxc.net/onebook.php?novelid=3649925  \n2       https://www.jjwxc.net/onebook.php?novelid=3594257  \n3       https://www.jjwxc.net/onebook.php?novelid=1567124  \n4       https://www.jjwxc.net/onebook.php?novelid=1458297  \n...                                                   ...  \n320276  https://www.jjwxc.net/onebook.php?novelid=3544136  \n320277  https://www.jjwxc.net/onebook.php?novelid=5691977  \n320278  https://www.jjwxc.net/onebook.php?novelid=2129830  \n320279  https://www.jjwxc.net/onebook.php?novelid=1651597  \n320280  https://www.jjwxc.net/onebook.php?novelid=5535970  \n\n[320281 rows x 27 columns]",
      "text/html": "<div>\n<style scoped>\n    .dataframe tbody tr th:only-of-type {\n        vertical-align: middle;\n    }\n\n    .dataframe tbody tr th {\n        vertical-align: top;\n    }\n\n    .dataframe thead th {\n        text-align: right;\n    }\n</style>\n<table border=\"1\" class=\"dataframe\">\n  <thead>\n    <tr style=\"text-align: right;\">\n      <th></th>\n      <th>a_作品字数</th>\n      <th>a_作品状态</th>\n      <th>a_作者</th>\n      <th>a_作者所发送红包数</th>\n      <th>a_小说完本数</th>\n      <th>a_小说暂停数</th>\n      <th>a_小说连载数</th>\n      <th>a_最后更新时间</th>\n      <th>a_最近更新作品</th>\n      <th>a_被收藏数</th>\n      <th>...</th>\n      <th>b_总点击量</th>\n      <th>b_文章名称</th>\n      <th>b_文章当前被收藏数</th>\n      <th>b_文章积分</th>\n      <th>b_文章类型</th>\n      <th>b_文章进度</th>\n      <th>b_签约状态</th>\n      <th>b_营养液数</th>\n      <th>b_霸王票全站排行</th>\n      <th>piece_url</th>\n    </tr>\n  </thead>\n  <tbody>\n    <tr>\n      <th>0</th>\n      <td>157033</td>\n      <td>连载</td>\n      <td>挖坑不填</td>\n      <td>40</td>\n      <td>121</td>\n      <td>25</td>\n      <td>173</td>\n      <td>2022-02-20 22:07:26</td>\n      <td>《[主名柯]关于我有三话存稿但还是被催稿是不是哪里搞错了》...</td>\n      <td>25490</td>\n      <td>...</td>\n      <td>39657</td>\n      <td>[综]尤莉卡的秘密恋爱关系</td>\n      <td>865</td>\n      <td>98595808</td>\n      <td>衍生-言情-架空历史-东方衍生</td>\n      <td>连载</td>\n      <td>已签约</td>\n      <td>63</td>\n      <td>231776</td>\n      <td>https://www.jjwxc.net/onebook.php?novelid=3350289</td>\n    </tr>\n    <tr>\n      <th>1</th>\n      <td>60744</td>\n      <td>连载</td>\n      <td>一宫兴子</td>\n      <td>20</td>\n      <td>18</td>\n      <td>0</td>\n      <td>25</td>\n      <td>2020-12-13 15:34:56</td>\n      <td>《[综英美]而那个成功的反派却想要回到过去》</td>\n      <td>1530</td>\n      <td>...</td>\n      <td>22671</td>\n      <td>[综英美]而那个成功的反派却想要回到过去</td>\n      <td>591</td>\n      <td>9550995</td>\n      <td>衍生-纯爱-架空历史-西方衍生</td>\n      <td>连载</td>\n      <td>已签约</td>\n      <td>437</td>\n      <td>178142</td>\n      <td>https://www.jjwxc.net/onebook.php?novelid=3649925</td>\n    </tr>\n    <tr>\n      <th>2</th>\n      <td>60744</td>\n      <td>连载</td>\n      <td>一宫兴子</td>\n      <td>20</td>\n      <td>18</td>\n      <td>0</td>\n      <td>25</td>\n      <td>2020-12-13 15:34:56</td>\n      <td>《[综英美]而那个成功的反派却想要回到过去》</td>\n      <td>1530</td>\n      <td>...</td>\n      <td>123219</td>\n      <td>[TSN/ME]当你的脑子里多了一个人的正确解决方法</td>\n      <td>904</td>\n      <td>15546017</td>\n      <td>衍生-纯爱-近代现代-西方衍生</td>\n      <td>完结</td>\n      <td>已签约</td>\n      <td>297</td>\n      <td>112990</td>\n      <td>https://www.jjwxc.net/onebook.php?novelid=3594257</td>\n    </tr>\n    <tr>\n      <th>3</th>\n      <td>157033</td>\n      <td>连载</td>\n      <td>挖坑不填</td>\n      <td>40</td>\n      <td>121</td>\n      <td>25</td>\n      <td>173</td>\n      <td>2022-02-20 22:07:26</td>\n      <td>《[主名柯]关于我有三话存稿但还是被催稿是不是哪里搞错了》...</td>\n      <td>25490</td>\n      <td>...</td>\n      <td>10135</td>\n      <td>[猫鼠游戏]圆桌骑士和亚瑟王的圣杯</td>\n      <td>110</td>\n      <td>90343528</td>\n      <td>衍生-言情-架空历史-西方衍生</td>\n      <td>完结</td>\n      <td>已签约</td>\n      <td>10</td>\n      <td>321141</td>\n      <td>https://www.jjwxc.net/onebook.php?novelid=1567124</td>\n    </tr>\n    <tr>\n      <th>4</th>\n      <td>157033</td>\n      <td>连载</td>\n      <td>挖坑不填</td>\n      <td>40</td>\n      <td>121</td>\n      <td>25</td>\n      <td>173</td>\n      <td>2022-02-20 22:07:26</td>\n      <td>《[主名柯]关于我有三话存稿但还是被催稿是不是哪里搞错了》...</td>\n      <td>25490</td>\n      <td>...</td>\n      <td>17097</td>\n      <td>[奇幻贵公子/恶灵猎人]生当复来归</td>\n      <td>263</td>\n      <td>93998864</td>\n      <td>衍生-言情-架空历史-东方衍生</td>\n      <td>完结</td>\n      <td>已签约</td>\n      <td>41</td>\n      <td>暂无</td>\n      <td>https://www.jjwxc.net/onebook.php?novelid=1458297</td>\n    </tr>\n    <tr>\n      <th>...</th>\n      <td>...</td>\n      <td>...</td>\n      <td>...</td>\n      <td>...</td>\n      <td>...</td>\n      <td>...</td>\n      <td>...</td>\n      <td>...</td>\n      <td>...</td>\n      <td>...</td>\n      <td>...</td>\n      <td>...</td>\n      <td>...</td>\n      <td>...</td>\n      <td>...</td>\n      <td>...</td>\n      <td>...</td>\n      <td>...</td>\n      <td>...</td>\n      <td>...</td>\n      <td>...</td>\n    </tr>\n    <tr>\n      <th>320276</th>\n      <td>146993</td>\n      <td>连载</td>\n      <td>写文字的静一</td>\n      <td>109</td>\n      <td>1</td>\n      <td>0</td>\n      <td>1</td>\n      <td>2021-06-07 10:40:42</td>\n      <td>《替嫁假千金每天都想休夫》</td>\n      <td>52</td>\n      <td>...</td>\n      <td>13368</td>\n      <td>醉扶青山</td>\n      <td>309</td>\n      <td>16599650</td>\n      <td>原创-言情-架空历史-爱情</td>\n      <td>完结</td>\n      <td>已签约</td>\n      <td>112</td>\n      <td>105072</td>\n      <td>https://www.jjwxc.net/onebook.php?novelid=3544136</td>\n    </tr>\n    <tr>\n      <th>320277</th>\n      <td>659250</td>\n      <td>连载</td>\n      <td>香酥栗</td>\n      <td>217</td>\n      <td>12</td>\n      <td>0</td>\n      <td>3</td>\n      <td>2022-03-14 19:39:39</td>\n      <td>《重回九零拆迁前》</td>\n      <td>13225</td>\n      <td>...</td>\n      <td>1151192</td>\n      <td>幼稚园全都重生了，除了……[九零]</td>\n      <td>19660</td>\n      <td>531464704</td>\n      <td>原创-言情-近代现代-爱情</td>\n      <td>完结</td>\n      <td>已签约</td>\n      <td>31775</td>\n      <td>870</td>\n      <td>https://www.jjwxc.net/onebook.php?novelid=5691977</td>\n    </tr>\n    <tr>\n      <th>320278</th>\n      <td>2259421</td>\n      <td>连载</td>\n      <td>甘缘茶</td>\n      <td>2792</td>\n      <td>4</td>\n      <td>0</td>\n      <td>7</td>\n      <td>2022-03-14 23:10:56</td>\n      <td>《外挂回收临时工[快穿]》</td>\n      <td>1715</td>\n      <td>...</td>\n      <td>217760</td>\n      <td>穿越未来之这特么是金手指么 摔</td>\n      <td>1446</td>\n      <td>53495640</td>\n      <td>原创-纯爱-幻想未来-爱情</td>\n      <td>连载</td>\n      <td>已签约</td>\n      <td>220</td>\n      <td>59331</td>\n      <td>https://www.jjwxc.net/onebook.php?novelid=2129830</td>\n    </tr>\n    <tr>\n      <th>320279</th>\n      <td>86170</td>\n      <td>连载</td>\n      <td>天明未羽</td>\n      <td>0</td>\n      <td>2</td>\n      <td>0</td>\n      <td>3</td>\n      <td>2013-01-17 18:48:48</td>\n      <td>《{倩女幽魂}穿成书生的弱鸡生活》</td>\n      <td>32</td>\n      <td>...</td>\n      <td>97016</td>\n      <td>{倩女幽魂}穿成书生的弱鸡生活</td>\n      <td>476</td>\n      <td>6851500</td>\n      <td>衍生-纯爱-古色古香-东方衍生</td>\n      <td>连载</td>\n      <td>已签约</td>\n      <td>2</td>\n      <td>暂无</td>\n      <td>https://www.jjwxc.net/onebook.php?novelid=1651597</td>\n    </tr>\n    <tr>\n      <th>320280</th>\n      <td>10732</td>\n      <td>连载</td>\n      <td>月落十三月</td>\n      <td>0</td>\n      <td>0</td>\n      <td>0</td>\n      <td>26</td>\n      <td>2021-08-20 16:27:38</td>\n      <td>《cos成真的我有了复数的欧豆豆》</td>\n      <td>195</td>\n      <td>...</td>\n      <td>136023</td>\n      <td>本该叫做虎杖悠仁的我在失忆期间被冠上了两面宿傩的名字后...</td>\n      <td>1556</td>\n      <td>4091129</td>\n      <td>衍生-无CP-近代现代-东方衍生</td>\n      <td>连载</td>\n      <td>未签约</td>\n      <td>42</td>\n      <td>暂无</td>\n      <td>https://www.jjwxc.net/onebook.php?novelid=5535970</td>\n    </tr>\n  </tbody>\n</table>\n<p>320281 rows × 27 columns</p>\n</div>"
     },
     "execution_count": 4,
     "metadata": {},
     "output_type": "execute_result"
    }
   ],
   "source": [
    "# 读取文件\n",
    "data = pd.read_csv('E:\\爬虫\\jjwx\\无差别爬取数据\\无差别爬取.csv')\n",
    "data"
   ],
   "metadata": {
    "collapsed": false,
    "pycharm": {
     "name": "#%%\n"
    }
   }
  },
  {
   "cell_type": "code",
   "execution_count": 13,
   "outputs": [
    {
     "data": {
      "text/plain": "(318676, 27)"
     },
     "execution_count": 13,
     "metadata": {},
     "output_type": "execute_result"
    }
   ],
   "source": [
    "# 删除重复的列，和与表头相同的列\n",
    "data = data.drop_duplicates().drop(index=22)\n",
    "data.shape"
   ],
   "metadata": {
    "collapsed": false,
    "pycharm": {
     "name": "#%%\n"
    }
   }
  },
  {
   "cell_type": "markdown",
   "source": [
    "对比原数据，数据量 320281->318676"
   ],
   "metadata": {
    "collapsed": false
   }
  },
  {
   "cell_type": "code",
   "execution_count": 14,
   "outputs": [],
   "source": [
    "## 字段，nunique等基本信息\n",
    "def get_info(df, head=10):\n",
    "  print(df.shape)\n",
    "  print('\\n', '----------------各列特征信息如下------------------')\n",
    "  stats = []\n",
    "  for col in df.columns:\n",
    "    stats.append(\n",
    "      (col, df[col].nunique(),\n",
    "       round(df[col].isnull().sum()*100 / df.shape[0], 3),\n",
    "       round(df[col].value_counts(normalize=True, dropna=False).values[0]*100, 3),\n",
    "       df[col].dtype\n",
    "      )\n",
    "    )\n",
    "  stats_df = pd.DataFrame(stats, columns=['特征', '属性个性', '缺失值占比', '最大属性占比', '特征类型'])\n",
    "\n",
    "  print(stats_df.sort_values('缺失值占比', ascending=False).head(head))"
   ],
   "metadata": {
    "collapsed": false,
    "pycharm": {
     "name": "#%%\n"
    }
   }
  },
  {
   "cell_type": "code",
   "execution_count": 15,
   "outputs": [
    {
     "name": "stdout",
     "output_type": "stream",
     "text": [
      "(318676, 27)\n",
      "\n",
      " ----------------各列特征信息如下------------------\n",
      "                    特征  属性个性  缺失值占比  最大属性占比 特征类型\n",
      "11            b_作品视角         7       0.291        55.443   object\n",
      "12            b_作品风格         7       0.026        58.647   object\n",
      "18            b_文章名称    305010       0.003         0.061   object\n",
      "13            b_全文字数    187112       0.001        19.996   object\n",
      "15            b_总书评数     19960       0.001        20.294   object\n",
      "25      b_霸王票全站排行    127180       0.001        47.866   object\n",
      "24            b_营养液数     22149       0.001        31.990   object\n",
      "23            b_签约状态         2       0.001        86.713   object\n",
      "22            b_文章进度         3       0.001        49.290   object\n",
      "21            b_文章类型       452       0.001        21.247   object\n",
      "20            b_文章积分    277016       0.001         0.072   object\n",
      "19    b_文章当前被收藏数     33585       0.001         2.338   object\n",
      "17            b_总点击量    170228       0.001        19.961   object\n",
      "16        b_总共地雷数量      9512       0.001        37.744   object\n",
      "26             piece_url    318663       0.001         0.001   object\n",
      "14  b_前进一名所需地雷数       379       0.001        70.969   object\n",
      "1             a_作品状态         4       0.000        69.971   object\n",
      "10            author_url     38072       0.000         0.074   object\n",
      "9             a_被收藏数      6731       0.000         0.340   object\n",
      "8         a_最近更新作品     37173       0.000         0.074   object\n",
      "7         a_最后更新时间     35491       0.000         1.057   object\n",
      "6           a_小说连载数       150       0.000         7.697   object\n",
      "5           a_小说暂停数        54       0.000        50.026   object\n",
      "4           a_小说完本数       185       0.000         6.400   object\n",
      "3     a_作者所发送红包数      4287       0.000        21.450   object\n",
      "2                 a_作者     38072       0.000         0.074   object\n",
      "0             a_作品字数     38013       0.000         0.104   object\n"
     ]
    }
   ],
   "source": [
    "# 获取数据的基本信息\n",
    "get_info(data, 100)"
   ],
   "metadata": {
    "collapsed": false,
    "pycharm": {
     "name": "#%%\n"
    }
   }
  },
  {
   "cell_type": "markdown",
   "source": [
    "7种作品视角，305010部小说，作品视角缺失率占比0.291，特征类型全部为object,需要合理的转换，比如总书评数，应该为int,整型"
   ],
   "metadata": {
    "collapsed": false
   }
  },
  {
   "cell_type": "code",
   "execution_count": 67,
   "outputs": [],
   "source": [
    "# 数据转换\n",
    "data['b_霸王票全站排行'] = data['b_霸王票全站排行'].replace(r'暂无', np.nan)\n",
    "int_cols = ['a_作品字数', 'a_作者所发送红包数', 'a_小说完本数', 'a_小说暂停数', 'a_小说连载数', 'a_被收藏数', 'b_全文字数', 'b_前进一名所需地雷数',\n",
    "            'b_总书评数', 'b_总共地雷数量', 'b_总点击量', 'b_文章当前被收藏数', 'b_文章积分', 'b_营养液数']\n",
    "dtypes_ = {i: np.int64 for i in int_cols}\n",
    "\n",
    "data = data.astype(dtypes_)\n",
    "data['a_最后更新时间'] = pd.to_datetime(data['a_最后更新时间'])"
   ],
   "metadata": {
    "collapsed": false,
    "pycharm": {
     "name": "#%%\n"
    }
   }
  },
  {
   "cell_type": "code",
   "execution_count": 74,
   "outputs": [
    {
     "data": {
      "text/plain": "a_作品字数                       int64\na_作品状态                      object\na_作者                          object\na_作者所发送红包数               int64\na_小说完本数                     int64\na_小说暂停数                     int64\na_小说连载数                     int64\na_最后更新时间          datetime64[ns]\na_最近更新作品                  object\na_被收藏数                       int64\nauthor_url                      object\nb_作品视角                      object\nb_作品风格                      object\nb_全文字数                       int64\nb_前进一名所需地雷数             int64\nb_总书评数                       int64\nb_总共地雷数量                   int64\nb_总点击量                       int64\nb_文章名称                      object\nb_文章当前被收藏数               int64\nb_文章积分                       int64\nb_文章类型                      object\nb_文章进度                      object\nb_签约状态                      object\nb_营养液数                       int64\nb_霸王票全站排行                object\npiece_url                       object\ndtype: object"
     },
     "execution_count": 74,
     "metadata": {},
     "output_type": "execute_result"
    }
   ],
   "source": [
    "data.dtypes"
   ],
   "metadata": {
    "collapsed": false,
    "pycharm": {
     "name": "#%%\n"
    }
   }
  },
  {
   "cell_type": "markdown",
   "source": [
    "\n",
    "所有字段被转换成了正确的类型，正确的类型有助于数据的分析"
   ],
   "metadata": {
    "collapsed": false
   }
  },
  {
   "cell_type": "code",
   "execution_count": 78,
   "outputs": [
    {
     "data": {
      "text/plain": "   a_作品字数 a_作品状态    a_作者  a_作者所发送红包数  a_小说完本数  \\\n0      157033       连载  挖坑不填                  40           121   \n1       60744       连载  一宫兴子                  20            18   \n2       60744       连载  一宫兴子                  20            18   \n3      157033       连载  挖坑不填                  40           121   \n4      157033       连载  挖坑不填                  40           121   \n\n   a_小说暂停数  a_小说连载数      a_最后更新时间  \\\n0            25           173 2022-02-20 22:07:26   \n1             0            25 2020-12-13 15:34:56   \n2             0            25 2020-12-13 15:34:56   \n3            25           173 2022-02-20 22:07:26   \n4            25           173 2022-02-20 22:07:26   \n\n                                                   a_最近更新作品  a_被收藏数  \\\n0  《[主名柯]关于我有三话存稿但还是被催稿是不是哪里搞错了》......       25490   \n1         《[综英美]而那个成功的反派却想要回到过去》                     1530   \n2         《[综英美]而那个成功的反派却想要回到过去》                     1530   \n3  《[主名柯]关于我有三话存稿但还是被催稿是不是哪里搞错了》......       25490   \n4  《[主名柯]关于我有三话存稿但还是被催稿是不是哪里搞错了》......       25490   \n\n   ... b_总点击量                                    b_文章名称  \\\n0  ...      39657                      [综]尤莉卡的秘密恋爱关系   \n1  ...      22671        [综英美]而那个成功的反派却想要回到过去   \n2  ...     123219  [TSN/ME]当你的脑子里多了一个人的正确解决方法   \n3  ...      10135              [猫鼠游戏]圆桌骑士和亚瑟王的圣杯   \n4  ...      17097               [奇幻贵公子/恶灵猎人]生当复来归   \n\n  b_文章当前被收藏数  b_文章积分                   b_文章类型  b_文章进度  \\\n0                865    98595808  衍生-言情-架空历史-东方衍生        连载   \n1                591     9550995  衍生-纯爱-架空历史-西方衍生        连载   \n2                904    15546017  衍生-纯爱-近代现代-西方衍生        完结   \n3                110    90343528  衍生-言情-架空历史-西方衍生        完结   \n4                263    93998864  衍生-言情-架空历史-东方衍生        完结   \n\n   b_签约状态  b_营养液数 b_霸王票全站排行  \\\n0      已签约          63           231776   \n1      已签约         437           178142   \n2      已签约         297           112990   \n3      已签约          10           321141   \n4      已签约          41              NaN   \n\n                                           piece_url  \n0  https://www.jjwxc.net/onebook.php?novelid=3350289  \n1  https://www.jjwxc.net/onebook.php?novelid=3649925  \n2  https://www.jjwxc.net/onebook.php?novelid=3594257  \n3  https://www.jjwxc.net/onebook.php?novelid=1567124  \n4  https://www.jjwxc.net/onebook.php?novelid=1458297  \n\n[5 rows x 27 columns]",
      "text/html": "<div>\n<style scoped>\n    .dataframe tbody tr th:only-of-type {\n        vertical-align: middle;\n    }\n\n    .dataframe tbody tr th {\n        vertical-align: top;\n    }\n\n    .dataframe thead th {\n        text-align: right;\n    }\n</style>\n<table border=\"1\" class=\"dataframe\">\n  <thead>\n    <tr style=\"text-align: right;\">\n      <th></th>\n      <th>a_作品字数</th>\n      <th>a_作品状态</th>\n      <th>a_作者</th>\n      <th>a_作者所发送红包数</th>\n      <th>a_小说完本数</th>\n      <th>a_小说暂停数</th>\n      <th>a_小说连载数</th>\n      <th>a_最后更新时间</th>\n      <th>a_最近更新作品</th>\n      <th>a_被收藏数</th>\n      <th>...</th>\n      <th>b_总点击量</th>\n      <th>b_文章名称</th>\n      <th>b_文章当前被收藏数</th>\n      <th>b_文章积分</th>\n      <th>b_文章类型</th>\n      <th>b_文章进度</th>\n      <th>b_签约状态</th>\n      <th>b_营养液数</th>\n      <th>b_霸王票全站排行</th>\n      <th>piece_url</th>\n    </tr>\n  </thead>\n  <tbody>\n    <tr>\n      <th>0</th>\n      <td>157033</td>\n      <td>连载</td>\n      <td>挖坑不填</td>\n      <td>40</td>\n      <td>121</td>\n      <td>25</td>\n      <td>173</td>\n      <td>2022-02-20 22:07:26</td>\n      <td>《[主名柯]关于我有三话存稿但还是被催稿是不是哪里搞错了》...</td>\n      <td>25490</td>\n      <td>...</td>\n      <td>39657</td>\n      <td>[综]尤莉卡的秘密恋爱关系</td>\n      <td>865</td>\n      <td>98595808</td>\n      <td>衍生-言情-架空历史-东方衍生</td>\n      <td>连载</td>\n      <td>已签约</td>\n      <td>63</td>\n      <td>231776</td>\n      <td>https://www.jjwxc.net/onebook.php?novelid=3350289</td>\n    </tr>\n    <tr>\n      <th>1</th>\n      <td>60744</td>\n      <td>连载</td>\n      <td>一宫兴子</td>\n      <td>20</td>\n      <td>18</td>\n      <td>0</td>\n      <td>25</td>\n      <td>2020-12-13 15:34:56</td>\n      <td>《[综英美]而那个成功的反派却想要回到过去》</td>\n      <td>1530</td>\n      <td>...</td>\n      <td>22671</td>\n      <td>[综英美]而那个成功的反派却想要回到过去</td>\n      <td>591</td>\n      <td>9550995</td>\n      <td>衍生-纯爱-架空历史-西方衍生</td>\n      <td>连载</td>\n      <td>已签约</td>\n      <td>437</td>\n      <td>178142</td>\n      <td>https://www.jjwxc.net/onebook.php?novelid=3649925</td>\n    </tr>\n    <tr>\n      <th>2</th>\n      <td>60744</td>\n      <td>连载</td>\n      <td>一宫兴子</td>\n      <td>20</td>\n      <td>18</td>\n      <td>0</td>\n      <td>25</td>\n      <td>2020-12-13 15:34:56</td>\n      <td>《[综英美]而那个成功的反派却想要回到过去》</td>\n      <td>1530</td>\n      <td>...</td>\n      <td>123219</td>\n      <td>[TSN/ME]当你的脑子里多了一个人的正确解决方法</td>\n      <td>904</td>\n      <td>15546017</td>\n      <td>衍生-纯爱-近代现代-西方衍生</td>\n      <td>完结</td>\n      <td>已签约</td>\n      <td>297</td>\n      <td>112990</td>\n      <td>https://www.jjwxc.net/onebook.php?novelid=3594257</td>\n    </tr>\n    <tr>\n      <th>3</th>\n      <td>157033</td>\n      <td>连载</td>\n      <td>挖坑不填</td>\n      <td>40</td>\n      <td>121</td>\n      <td>25</td>\n      <td>173</td>\n      <td>2022-02-20 22:07:26</td>\n      <td>《[主名柯]关于我有三话存稿但还是被催稿是不是哪里搞错了》...</td>\n      <td>25490</td>\n      <td>...</td>\n      <td>10135</td>\n      <td>[猫鼠游戏]圆桌骑士和亚瑟王的圣杯</td>\n      <td>110</td>\n      <td>90343528</td>\n      <td>衍生-言情-架空历史-西方衍生</td>\n      <td>完结</td>\n      <td>已签约</td>\n      <td>10</td>\n      <td>321141</td>\n      <td>https://www.jjwxc.net/onebook.php?novelid=1567124</td>\n    </tr>\n    <tr>\n      <th>4</th>\n      <td>157033</td>\n      <td>连载</td>\n      <td>挖坑不填</td>\n      <td>40</td>\n      <td>121</td>\n      <td>25</td>\n      <td>173</td>\n      <td>2022-02-20 22:07:26</td>\n      <td>《[主名柯]关于我有三话存稿但还是被催稿是不是哪里搞错了》...</td>\n      <td>25490</td>\n      <td>...</td>\n      <td>17097</td>\n      <td>[奇幻贵公子/恶灵猎人]生当复来归</td>\n      <td>263</td>\n      <td>93998864</td>\n      <td>衍生-言情-架空历史-东方衍生</td>\n      <td>完结</td>\n      <td>已签约</td>\n      <td>41</td>\n      <td>NaN</td>\n      <td>https://www.jjwxc.net/onebook.php?novelid=1458297</td>\n    </tr>\n  </tbody>\n</table>\n<p>5 rows × 27 columns</p>\n</div>"
     },
     "execution_count": 78,
     "metadata": {},
     "output_type": "execute_result"
    }
   ],
   "source": [
    "data.head()"
   ],
   "metadata": {
    "collapsed": false,
    "pycharm": {
     "name": "#%%\n"
    }
   }
  },
  {
   "cell_type": "code",
   "execution_count": 76,
   "outputs": [],
   "source": [
    "# 将结果保存，用于数据分析,并覆盖源数据\n",
    "data.to_csv('E:\\爬虫\\jjwx\\无差别爬取数据\\无差别爬取.csv', index=False)"
   ],
   "metadata": {
    "collapsed": false,
    "pycharm": {
     "name": "#%%\n"
    }
   }
  }
 ],
 "metadata": {
  "kernelspec": {
   "display_name": "Python 3",
   "language": "python",
   "name": "python3"
  },
  "language_info": {
   "codemirror_mode": {
    "name": "ipython",
    "version": 2
   },
   "file_extension": ".py",
   "mimetype": "text/x-python",
   "name": "python",
   "nbconvert_exporter": "python",
   "pygments_lexer": "ipython2",
   "version": "2.7.6"
  }
 },
 "nbformat": 4,
 "nbformat_minor": 0
}